{
 "cells": [
  {
   "cell_type": "code",
   "execution_count": 7,
   "metadata": {},
   "outputs": [],
   "source": [
    "import cv2\n",
    "import time"
   ]
  },
  {
   "cell_type": "code",
   "execution_count": 3,
   "metadata": {},
   "outputs": [
    {
     "data": {
      "text/plain": [
       "30.0"
      ]
     },
     "execution_count": 3,
     "metadata": {},
     "output_type": "execute_result"
    }
   ],
   "source": [
    "# cap = cv2.VideoCapture('../image/test.mp4') # 0: for default camera\n",
    "# FPS = int(cap.get(cv2.CAP_PROP_FPS)\n",
    "# FPS"
   ]
  },
  {
   "cell_type": "code",
   "execution_count": 4,
   "metadata": {},
   "outputs": [],
   "source": [
    "# cap.set(cv2.CAP_PROP_POS_AVI_RATIO, 1)\n",
    "# SECS = int(cap.get(cv2.CAP_PROP_POS_MSEC) / 1000)"
   ]
  },
  {
   "cell_type": "code",
   "execution_count": null,
   "metadata": {},
   "outputs": [],
   "source": [
    "import cv2\n",
    "import time\n",
    "\n",
    "cap = cv2.VideoCapture('../image/test.mp4') # 0: for default camera\n",
    "\n",
    "FPS = int(cap.get(cv2.CAP_PROP_FPS))\n",
    "          \n",
    "count = 0\n",
    "cnt = -1\n",
    "sec = FPS\n",
    "show = '0'\n",
    "while True:\n",
    "    \n",
    "    ret, frame = cap.read()\n",
    "    \n",
    "    if ret:\n",
    "        time.sleep(1/sec)\n",
    "        \n",
    "        count += 1/sec\n",
    "        cnt += 1 \n",
    "       \n",
    "        if cnt == sec:\n",
    "            show = str(int(count))\n",
    "            cnt = -1\n",
    "            \n",
    "        cv2.putText(frame, text=show, org=(10, 100), fontFace=cv2.FONT_HERSHEY_SIMPLEX, fontScale=2, color=(255, 255, 0), thickness=3, lineType=cv2.LINE_AA)\n",
    "        \n",
    "        cv2.imshow('Frame', frame)\n",
    "    \n",
    "    if cv2.waitKey(1) & 0xFF == 27:\n",
    "        break\n",
    "        \n",
    "cap.release()\n",
    "# writer.release()\n",
    "cv2.destroyAllWindows()"
   ]
  },
  {
   "cell_type": "code",
   "execution_count": null,
   "metadata": {},
   "outputs": [],
   "source": []
  }
 ],
 "metadata": {
  "kernelspec": {
   "display_name": "Python 3",
   "language": "python",
   "name": "python3"
  },
  "language_info": {
   "codemirror_mode": {
    "name": "ipython",
    "version": 3
   },
   "file_extension": ".py",
   "mimetype": "text/x-python",
   "name": "python",
   "nbconvert_exporter": "python",
   "pygments_lexer": "ipython3",
   "version": "3.7.3"
  }
 },
 "nbformat": 4,
 "nbformat_minor": 2
}
