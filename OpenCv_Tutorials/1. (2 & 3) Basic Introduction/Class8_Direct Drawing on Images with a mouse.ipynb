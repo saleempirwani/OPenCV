{
 "cells": [
  {
   "cell_type": "markdown",
   "metadata": {},
   "source": [
    "### Direct Drawing on Images with a mouse"
   ]
  },
  {
   "cell_type": "code",
   "execution_count": 2,
   "metadata": {},
   "outputs": [],
   "source": [
    "import cv2\n",
    "import numpy as np\n",
    "\n",
    "# VARIABLE\n",
    "ix, iy = -1, -1\n",
    "draw = False\n",
    "\n",
    "# FUNCTION\n",
    "def draw_rectangular(event, x, y, flags, params):\n",
    "    global ix, iy, draw\n",
    "    \n",
    "    if event == cv2.EVENT_LBUTTONDOWN:\n",
    "        draw = True\n",
    "        ix, iy = x, y\n",
    "        \n",
    "    elif event == cv2.EVENT_MOUSEMOVE:\n",
    "        if draw == True:\n",
    "            cv2.rectangle(img, (ix,iy), (x,y), (255, 255, 0), -1)\n",
    "            \n",
    "    elif event == cv2.EVENT_LBUTTONUP:\n",
    "        draw = False\n",
    "#         cv2.rectangle(img, (ix,iy), (x,y), (255, 255, 0), -1)\n",
    "        \n",
    "# BLACK IMAGE\n",
    "img = np.zeros((512,512,3))\n",
    "\n",
    "cv2.namedWindow(winname='drawing')\n",
    "cv2.setMouseCallback('drawing', draw_rectangular)\n",
    "\n",
    "# SHOWING IMAGE\n",
    "while True:\n",
    "    cv2.imshow('drawing', img)\n",
    "    \n",
    "    if cv2.waitKey(20) & 0xFF == 27:\n",
    "        break\n",
    "\n",
    "cv2.destroyAllWindows()"
   ]
  },
  {
   "cell_type": "code",
   "execution_count": 1,
   "metadata": {},
   "outputs": [
    {
     "name": "stdout",
     "output_type": "stream",
     "text": [
      "Collecting playsound\n",
      "  Downloading playsound-1.2.2-py2.py3-none-any.whl (6.0 kB)\n",
      "Installing collected packages: playsound\n",
      "Successfully installed playsound-1.2.2\n"
     ]
    }
   ],
   "source": [
    "!pip install playsound"
   ]
  },
  {
   "cell_type": "code",
   "execution_count": null,
   "metadata": {},
   "outputs": [],
   "source": []
  }
 ],
 "metadata": {
  "kernelspec": {
   "display_name": "Python 3",
   "language": "python",
   "name": "python3"
  },
  "language_info": {
   "codemirror_mode": {
    "name": "ipython",
    "version": 3
   },
   "file_extension": ".py",
   "mimetype": "text/x-python",
   "name": "python",
   "nbconvert_exporter": "python",
   "pygments_lexer": "ipython3",
   "version": "3.7.6"
  }
 },
 "nbformat": 4,
 "nbformat_minor": 2
}
