{
 "cells": [
  {
   "cell_type": "markdown",
   "metadata": {},
   "source": [
    "### 6. Direct Drawing on Images with a mouse - Part One and Two"
   ]
  },
  {
   "cell_type": "code",
   "execution_count": 1,
   "metadata": {},
   "outputs": [],
   "source": [
    "import cv2\n",
    "import numpy as np\n",
    "\n",
    "################\n",
    "## Function ###\n",
    "###############\n",
    "\n",
    "def draw_circle(event, x, y, flags, params):\n",
    "    \n",
    "    if event == cv2.EVENT_LBUTTONDOWN:\n",
    "        cv2.circle(img, (x, y), radius=30, color=(255, 255, 0), thickness=-1)\n",
    "    elif event == cv2.EVENT_RBUTTONDOWN:\n",
    "        cv2.circle(img, (x, y), radius=30, color=(0, 255, 255), thickness=-1)\n",
    "\n",
    "cv2.namedWindow(winname='Circle')\n",
    "cv2.setMouseCallback('Circle', draw_circle)\n",
    "\n",
    "##################\n",
    "#### Show Image ##\n",
    "##################\n",
    "\n",
    "img = np.zeros((512, 512, 3))\n",
    "\n",
    "while True:\n",
    "    \n",
    "    cv2.imshow('Circle', img)\n",
    "    \n",
    "    if cv2.waitKey(20) & 0xFF == 27:\n",
    "        break\n",
    "        \n",
    "cv2.destroyAllWindows()"
   ]
  },
  {
   "cell_type": "markdown",
   "metadata": {},
   "source": [
    "#### Drawing Rectangle on left Button Clicked and Triangle on Right Button Clicked"
   ]
  },
  {
   "cell_type": "code",
   "execution_count": 20,
   "metadata": {},
   "outputs": [
    {
     "name": "stdout",
     "output_type": "stream",
     "text": [
      "(3, 1, 2)\n",
      "(3, 1, 2)\n",
      "(3, 1, 2)\n",
      "(3, 1, 2)\n",
      "(3, 1, 2)\n",
      "(3, 1, 2)\n",
      "(3, 1, 2)\n",
      "(3, 1, 2)\n",
      "(3, 1, 2)\n",
      "(3, 1, 2)\n",
      "(3, 1, 2)\n",
      "(3, 1, 2)\n",
      "(3, 1, 2)\n",
      "(3, 1, 2)\n",
      "(3, 1, 2)\n",
      "(3, 1, 2)\n"
     ]
    }
   ],
   "source": [
    "import cv2\n",
    "import numpy as np\n",
    "\n",
    "################\n",
    "## Function ###\n",
    "###############\n",
    "# pt1 = x,y+10\n",
    "# pt2 = x-10,y-10\n",
    "# pt3 = x3+10,y-10\n",
    "# ver = np.array([[pt1],[pt2],[pt3]])\n",
    "# ver = ver.reshape(-1, 1, 2)\n",
    "def draw_circle(event, x, y, flags, params):\n",
    "    \n",
    "    if event == cv2.EVENT_LBUTTONDOWN:\n",
    "        pt1 = x,y\n",
    "        pt2 = x+50,y+50\n",
    "        cv2.rectangle(img, pt1, pt2, (0,0,255), -1)\n",
    "        \n",
    "    elif event == cv2.EVENT_RBUTTONDOWN:\n",
    "        pt1 = x,y-25\n",
    "        pt2 = x-25,y+25\n",
    "        pt3 = x+25,y+25\n",
    "        ver = np.array([[pt1],[pt2],[pt3]])\n",
    "        ver = ver.reshape(-1, 1, 2)\n",
    "        cv2.fillPoly(img, [ver], (0,255,0))\n",
    "\n",
    "#         cv2.putText(img, str(x)+' '+str(y), (x,y), cv2.FONT_HERSHEY_COMPLEX_SMALL, 2, (255,255,255))\n",
    "    \n",
    "        \n",
    "cv2.namedWindow(winname='Triangle - Rectangular')\n",
    "cv2.setMouseCallback('Triangle - Rectangular', draw_circle)\n",
    "\n",
    "##################\n",
    "#### Show Image ##\n",
    "##################\n",
    "\n",
    "img = np.zeros((512, 512, 3))\n",
    "\n",
    "while True:\n",
    "    \n",
    "    cv2.imshow('Triangle - Rectangular', img)\n",
    "    \n",
    "    if cv2.waitKey(20) & 0xFF == 27:\n",
    "        break\n",
    "        \n",
    "cv2.destroyAllWindows()"
   ]
  },
  {
   "cell_type": "code",
   "execution_count": null,
   "metadata": {},
   "outputs": [],
   "source": []
  }
 ],
 "metadata": {
  "kernelspec": {
   "display_name": "Python 3",
   "language": "python",
   "name": "python3"
  },
  "language_info": {
   "codemirror_mode": {
    "name": "ipython",
    "version": 3
   },
   "file_extension": ".py",
   "mimetype": "text/x-python",
   "name": "python",
   "nbconvert_exporter": "python",
   "pygments_lexer": "ipython3",
   "version": "3.7.3"
  }
 },
 "nbformat": 4,
 "nbformat_minor": 2
}
