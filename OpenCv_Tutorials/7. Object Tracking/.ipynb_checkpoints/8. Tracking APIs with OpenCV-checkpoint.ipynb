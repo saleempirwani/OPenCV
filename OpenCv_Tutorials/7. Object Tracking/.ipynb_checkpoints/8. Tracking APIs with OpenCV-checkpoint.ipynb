{
 "cells": [
  {
   "cell_type": "code",
   "execution_count": 1,
   "metadata": {},
   "outputs": [],
   "source": [
    "import cv2"
   ]
  },
  {
   "cell_type": "code",
   "execution_count": 2,
   "metadata": {},
   "outputs": [],
   "source": [
    "def ask_for_tracker():\n",
    "    menu = \"\"\"\n",
    "Welcome! What Tracking API you would like to use?\n",
    "Enter 0 for BOOSTING:\n",
    "Enter 1 for MIL:\n",
    "Enter 2 for KCF:\n",
    "Enter 3 for TLD:\n",
    "Enter 4 for MEDIANFLOW:\n",
    "Please select your tracker: \"\"\"\n",
    "    \n",
    "    choice = input(menu)\n",
    "    \n",
    "    tracker = None\n",
    "    success = False\n",
    "    \n",
    "    if choice == '0':\n",
    "        tracker = cv2.TrackerBoosting_create()\n",
    "        success = True\n",
    "    \n",
    "    elif choice == '1':\n",
    "        tracker = cv2.TrackerMIL_create()\n",
    "        success = True\n",
    "    \n",
    "    elif choice == '2':\n",
    "        tracker = cv2.TrackerKCF_create()\n",
    "        success = True\n",
    "    \n",
    "    elif choice == '3':\n",
    "        tracker = cv2.TrackerTLD_create()\n",
    "        success = True\n",
    "    \n",
    "    elif choice == '4':\n",
    "        tracker = cv2.TrackerMedianFlow_create()\n",
    "        success = True\n",
    "    else: \n",
    "        print('\\nWarning! Please select between 0-4.')\n",
    "        success = False\n",
    "        \n",
    "    return (success, tracker)"
   ]
  },
  {
   "cell_type": "code",
   "execution_count": 3,
   "metadata": {},
   "outputs": [],
   "source": [
    "# istrue, tracker = ask_for_tracker()\n",
    "# if istrue:\n",
    "#       print(str(tracker).split()[0][1:])"
   ]
  },
  {
   "cell_type": "code",
   "execution_count": 4,
   "metadata": {},
   "outputs": [],
   "source": [
    "# str(tracker).split()[0][1:]"
   ]
  },
  {
   "cell_type": "code",
   "execution_count": 11,
   "metadata": {},
   "outputs": [
    {
     "name": "stdout",
     "output_type": "stream",
     "text": [
      "\n",
      "Welcome! What Tracking API you would like to use?\n",
      "Enter 0 for BOOSTING:\n",
      "Enter 1 for MIL:\n",
      "Enter 2 for KCF:\n",
      "Enter 3 for TLD:\n",
      "Enter 4 for MEDIANFLOW:\n",
      "Please select your tracker: 4\n"
     ]
    }
   ],
   "source": [
    "istrue, tracker = ask_for_tracker()\n",
    "\n",
    "if istrue:\n",
    "\n",
    "    tracker_name = str(tracker).split()[0][1:]\n",
    "\n",
    "    # READ VIDEO \n",
    "    cap = cv2.VideoCapture('../image/car_moving.mp4')\n",
    "\n",
    "    # READ FIRST FRAME\n",
    "    ret, frame = cap.read()\n",
    "\n",
    "    # SPECIAL FUNCTION ALLOWS US TO DRAW ON VERY FIRST FRAME OUR DESIRED ROI\n",
    "    roi = cv2.selectROI(frame, False)\n",
    "\n",
    "    # INITIALIZE TRACKER WITH FIRST FRAME AND BOUNDING BOX\n",
    "    ret = tracker.init(frame, roi)\n",
    "\n",
    "    while True:\n",
    "\n",
    "        # READ NEW FIRST FRAME\n",
    "        ret, frame = cap.read()\n",
    "        if ret:\n",
    "\n",
    "            # UPDATE TRACKER\n",
    "            success, roi = tracker.update(frame)\n",
    "\n",
    "            # ROI VARIABLE IS TUPLE OF 4 FLOAT\n",
    "            # WE NEED EACH VALUE AND WE NEED THEM AS INTEGERS\n",
    "\n",
    "            (x,y,w,h) = tuple(map(int, roi))\n",
    "\n",
    "            # DRAW RECTANGLE AS TRACKER MOVES\n",
    "            if success:\n",
    "\n",
    "                # TRACKING SUCCESS\n",
    "                p1= (x, y)\n",
    "                p2 = (x+w, y+h)\n",
    "                cv2.rectangle(frame, p1, p2, (0,255,0), 3)\n",
    "\n",
    "            else:\n",
    "                # TRACKING FAILURE\n",
    "                cv2.putText(frame, 'Failure to Detect Tracking!', (100, 200), cv2.FONT_HERSHEY_SIMPLEX, 1, (0,0,0), 3)\n",
    "\n",
    "            # DISPLAY TRACKING TYPE ON FRAME\n",
    "            cv2.putText(frame, tracker_name, (20, 400), cv2.FONT_HERSHEY_SIMPLEX, 1, (0,255,0),3)\n",
    "\n",
    "            # DISPLAY RESULT\n",
    "            cv2.imshow(tracker_name, frame)\n",
    "\n",
    "        # EXIT IF ESC PRESSED\n",
    "        k = cv2.waitKey(1) & 0xFF\n",
    "        if k == 27:\n",
    "            break\n",
    "\n",
    "    cap.release()\n",
    "    cv2.destroyAllWindows()"
   ]
  },
  {
   "cell_type": "code",
   "execution_count": null,
   "metadata": {},
   "outputs": [],
   "source": []
  }
 ],
 "metadata": {
  "kernelspec": {
   "display_name": "Python 3",
   "language": "python",
   "name": "python3"
  },
  "language_info": {
   "codemirror_mode": {
    "name": "ipython",
    "version": 3
   },
   "file_extension": ".py",
   "mimetype": "text/x-python",
   "name": "python",
   "nbconvert_exporter": "python",
   "pygments_lexer": "ipython3",
   "version": "3.7.6"
  }
 },
 "nbformat": 4,
 "nbformat_minor": 2
}
