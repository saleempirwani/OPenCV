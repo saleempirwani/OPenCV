{
 "cells": [
  {
   "cell_type": "code",
   "execution_count": 4,
   "metadata": {},
   "outputs": [],
   "source": [
    "import cv2\n",
    "\n",
    "cap = cv2.VideoCapture(0)\n",
    "\n",
    "# Global Variables\n",
    "pt1 = (0,0)\n",
    "topLeft_clicked = False\n",
    "\n",
    "# CallBack Function \n",
    "def draw_circle(event, x, y, flag, params):\n",
    "    global pt1, pt2, topLeft_clicked, botRight_clicked\n",
    "    \n",
    "    if event == cv2.EVENT_LBUTTONDOWN:\n",
    "        \n",
    "        # Reset The Rectangle\n",
    "        if topLeft_clicked == True:\n",
    "            pt1 = (0,0)\n",
    "            topLeft_clicked = False\n",
    "\n",
    "        if topLeft_clicked == False:\n",
    "            pt1 = (x,y)\n",
    "            topLeft_clicked = True\n",
    "            \n",
    "\n",
    "# Connect To The CallBack\n",
    "cv2.namedWindow('Frame')\n",
    "cv2.setMouseCallback('Frame', draw_circle)\n",
    "\n",
    "while True:\n",
    "    \n",
    "    ret, frame = cap.read()\n",
    "    \n",
    "    # Drawing onto Frame Based on Global Variable\n",
    "    if topLeft_clicked:\n",
    "        cv2.circle(frame, center=pt1, radius=40, color=(0,0,255), thickness=2)\n",
    "    \n",
    "    cv2.imshow('Frame', frame)\n",
    "    \n",
    "    if cv2.waitKey(1) & 0xFF == 27:\n",
    "        break\n",
    "\n",
    "cap.release()\n",
    "cv2.destroyAllWindows()"
   ]
  },
  {
   "cell_type": "code",
   "execution_count": null,
   "metadata": {},
   "outputs": [],
   "source": []
  }
 ],
 "metadata": {
  "kernelspec": {
   "display_name": "Python 3",
   "language": "python",
   "name": "python3"
  },
  "language_info": {
   "codemirror_mode": {
    "name": "ipython",
    "version": 3
   },
   "file_extension": ".py",
   "mimetype": "text/x-python",
   "name": "python",
   "nbconvert_exporter": "python",
   "pygments_lexer": "ipython3",
   "version": "3.7.3"
  }
 },
 "nbformat": 4,
 "nbformat_minor": 2
}
