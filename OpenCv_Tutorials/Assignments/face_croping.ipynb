{
 "cells": [
  {
   "cell_type": "code",
   "execution_count": 6,
   "metadata": {},
   "outputs": [],
   "source": [
    "import cv2\n",
    "import numpy as np\n",
    "import os\n",
    "import matplotlib.pyplot as plt\n",
    "%matplotlib inline"
   ]
  },
  {
   "cell_type": "code",
   "execution_count": 7,
   "metadata": {},
   "outputs": [],
   "source": [
    "face_cascade = cv2.CascadeClassifier('../image/data/haarcascade_frontalface_default.xml')"
   ]
  },
  {
   "cell_type": "code",
   "execution_count": 11,
   "metadata": {},
   "outputs": [],
   "source": [
    "def detech_face():\n",
    "    \n",
    "    path = '../datasets/actors_tom/Jackie Chan/'\n",
    "    \n",
    "    file = os.listdir(path)\n",
    "    \n",
    "    for i in range(len(file)):\n",
    "        \n",
    "        if os.path.exists(path + file[i]):\n",
    "            \n",
    "            img_people = cv2.imread((path + file[i]))\n",
    "            \n",
    "            if img_people is not None:\n",
    "                \n",
    "                img = img_people.copy()\n",
    "                face = None\n",
    "\n",
    "                face_finder = face_cascade.detectMultiScale(img, 1.4, 5)\n",
    "\n",
    "                for x,y,w,h in face_finder:\n",
    "\n",
    "                    face = img[y:y+h, x:x+w]\n",
    "                    cv2.imwrite(path + 'face/' +str(i)+'.jpg', face)\n",
    "                \n",
    "                print(path + 'face/' +str(i)+'.jpg')\n",
    "        else:\n",
    "            print('Warning: Given path doesnt exist...')\n",
    "\n",
    "# detech_face()"
   ]
  },
  {
   "cell_type": "code",
   "execution_count": 15,
   "metadata": {},
   "outputs": [
    {
     "ename": "FileNotFoundError",
     "evalue": "[WinError 2] The system cannot find the file specified: '../datasets/actors_tom_jackie/Jackie Chan/face/train1' -> '../datasets/actors_tom_jackie/Jackie Chan/train/face_0.jpg'",
     "output_type": "error",
     "traceback": [
      "\u001b[1;31m---------------------------------------------------------------------------\u001b[0m",
      "\u001b[1;31mFileNotFoundError\u001b[0m                         Traceback (most recent call last)",
      "\u001b[1;32m<ipython-input-15-99d1ddf2c6c4>\u001b[0m in \u001b[0;36m<module>\u001b[1;34m\u001b[0m\n\u001b[0;32m     19\u001b[0m \u001b[1;33m\u001b[0m\u001b[0m\n\u001b[0;32m     20\u001b[0m \u001b[1;33m\u001b[0m\u001b[0m\n\u001b[1;32m---> 21\u001b[1;33m \u001b[0mchange_file_name\u001b[0m\u001b[1;33m(\u001b[0m\u001b[1;33m)\u001b[0m\u001b[1;33m\u001b[0m\u001b[1;33m\u001b[0m\u001b[0m\n\u001b[0m",
      "\u001b[1;32m<ipython-input-15-99d1ddf2c6c4>\u001b[0m in \u001b[0;36mchange_file_name\u001b[1;34m()\u001b[0m\n\u001b[0;32m     16\u001b[0m \u001b[1;33m\u001b[0m\u001b[0m\n\u001b[0;32m     17\u001b[0m         \u001b[1;32mfor\u001b[0m \u001b[0mx\u001b[0m \u001b[1;32min\u001b[0m \u001b[0mrange\u001b[0m\u001b[1;33m(\u001b[0m\u001b[0mleng\u001b[0m\u001b[1;33m)\u001b[0m\u001b[1;33m:\u001b[0m\u001b[1;33m\u001b[0m\u001b[1;33m\u001b[0m\u001b[0m\n\u001b[1;32m---> 18\u001b[1;33m             \u001b[0mos\u001b[0m\u001b[1;33m.\u001b[0m\u001b[0mrename\u001b[0m\u001b[1;33m(\u001b[0m\u001b[0mfrom_path\u001b[0m \u001b[1;33m+\u001b[0m \u001b[0mfile\u001b[0m\u001b[1;33m[\u001b[0m\u001b[0mx\u001b[0m\u001b[1;33m]\u001b[0m\u001b[1;33m,\u001b[0m \u001b[0mto_path\u001b[0m \u001b[1;33m+\u001b[0m \u001b[1;34m'face_'\u001b[0m \u001b[1;33m+\u001b[0m \u001b[0mstr\u001b[0m\u001b[1;33m(\u001b[0m\u001b[0mx\u001b[0m\u001b[1;33m)\u001b[0m \u001b[1;33m+\u001b[0m \u001b[1;34m'.jpg'\u001b[0m\u001b[1;33m)\u001b[0m\u001b[1;33m\u001b[0m\u001b[1;33m\u001b[0m\u001b[0m\n\u001b[0m\u001b[0;32m     19\u001b[0m \u001b[1;33m\u001b[0m\u001b[0m\n\u001b[0;32m     20\u001b[0m \u001b[1;33m\u001b[0m\u001b[0m\n",
      "\u001b[1;31mFileNotFoundError\u001b[0m: [WinError 2] The system cannot find the file specified: '../datasets/actors_tom_jackie/Jackie Chan/face/train1' -> '../datasets/actors_tom_jackie/Jackie Chan/train/face_0.jpg'"
     ]
    }
   ],
   "source": [
    "def change_file_name():\n",
    "    \n",
    "    from_path = '../datasets/actors_tom_jackie/Jackie Chan/face/train'\n",
    "    to_path = '../datasets/actors_tom_jackie/Jackie Chan/train/'\n",
    "    \n",
    "    if not os.path.exists(from_path):\n",
    "        print('Warning: Given from_path doesnt exist...')\n",
    "    \n",
    "    elif not os.path.exists(to_path):\n",
    "        print('Warning: Given to_path doesnt exist...')\n",
    "    \n",
    "    else:\n",
    "        \n",
    "        file = os.listdir(from_path)\n",
    "        leng = len(file)\n",
    "\n",
    "        for x in range(leng):\n",
    "            os.rename(from_path + file[x], to_path + 'face_' + str(x) + '.jpg')\n",
    "\n",
    "\n",
    "change_file_name()"
   ]
  },
  {
   "cell_type": "code",
   "execution_count": null,
   "metadata": {},
   "outputs": [],
   "source": []
  }
 ],
 "metadata": {
  "kernelspec": {
   "display_name": "Python 3",
   "language": "python",
   "name": "python3"
  },
  "language_info": {
   "codemirror_mode": {
    "name": "ipython",
    "version": 3
   },
   "file_extension": ".py",
   "mimetype": "text/x-python",
   "name": "python",
   "nbconvert_exporter": "python",
   "pygments_lexer": "ipython3",
   "version": "3.7.3"
  }
 },
 "nbformat": 4,
 "nbformat_minor": 2
}
